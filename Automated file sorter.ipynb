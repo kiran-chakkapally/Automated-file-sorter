{
 "cells": [
  {
   "cell_type": "code",
   "execution_count": null,
   "id": "bcc022af",
   "metadata": {},
   "outputs": [],
   "source": []
  },
  {
   "cell_type": "markdown",
   "id": "53056223",
   "metadata": {},
   "source": [
    "# Automated File Sorter by Kiran Chakkapally"
   ]
  },
  {
   "cell_type": "code",
   "execution_count": null,
   "id": "191e81fd",
   "metadata": {},
   "outputs": [],
   "source": [
    "import os\n",
    "import shutil\n",
    "\n",
    "path = r\"C:\\Users\\chkir\\Downloads\\Automatic file sorter\\\\\"\n",
    "\n",
    "# List all files in the directory\n",
    "file_names = os.listdir(path)\n",
    "\n",
    "# Define folder names\n",
    "folder_names = [\"CSV files\", \"Text files\", \"Image files\"]\n",
    "\n",
    "# Create folders if they don't exist\n",
    "for folder in folder_names:\n",
    "    if not os.path.exists(path + folder):\n",
    "        os.makedirs(path + folder)\n",
    "\n",
    "# Move files to their respective folders\n",
    "for file in file_names:\n",
    "    if file.endswith(\".csv\"):\n",
    "        shutil.move(path + file, path + \"CSV files\\\\\" + file)\n",
    "    elif file.endswith(\".png\"):\n",
    "        shutil.move(path + file, path + \"Image files\\\\\" + file)\n",
    "    elif file.endswith(\".txt\"):\n",
    "        shutil.move(path + file, path + \"Text files\\\\\" + file)\n"
   ]
  }
 ],
 "metadata": {
  "kernelspec": {
   "display_name": "Python 3 (ipykernel)",
   "language": "python",
   "name": "python3"
  },
  "language_info": {
   "codemirror_mode": {
    "name": "ipython",
    "version": 3
   },
   "file_extension": ".py",
   "mimetype": "text/x-python",
   "name": "python",
   "nbconvert_exporter": "python",
   "pygments_lexer": "ipython3",
   "version": "3.9.13"
  }
 },
 "nbformat": 4,
 "nbformat_minor": 5
}
